{
 "cells": [
  {
   "cell_type": "code",
   "execution_count": 3,
   "id": "ff5338f0",
   "metadata": {},
   "outputs": [],
   "source": [
    "import pandas as pd\n",
    "import pickle\n",
    "import numpy as np\n",
    "import matplotlib.pyplot as plt\n",
    "import seaborn as sns\n",
    "%matplotlib inline"
   ]
  },
  {
   "cell_type": "code",
   "execution_count": 4,
   "id": "ffe3b3cf",
   "metadata": {},
   "outputs": [],
   "source": [
    "preprocess_model = pickle.load(open('preprocess_model.pkl','rb'))"
   ]
  },
  {
   "cell_type": "code",
   "execution_count": 6,
   "id": "a5074c57",
   "metadata": {},
   "outputs": [],
   "source": [
    "x_train = preprocess_model[0]\n",
    "y_train = preprocess_model[1]\n",
    "x_test = preprocess_model[2]\n",
    "y_test = preprocess_model[3]"
   ]
  },
  {
   "cell_type": "markdown",
   "id": "076cd1fc",
   "metadata": {},
   "source": [
    "## Linear Regression"
   ]
  },
  {
   "cell_type": "code",
   "execution_count": 7,
   "id": "04fe9d14",
   "metadata": {},
   "outputs": [
    {
     "data": {
      "text/html": [
       "<style>#sk-container-id-1 {color: black;background-color: white;}#sk-container-id-1 pre{padding: 0;}#sk-container-id-1 div.sk-toggleable {background-color: white;}#sk-container-id-1 label.sk-toggleable__label {cursor: pointer;display: block;width: 100%;margin-bottom: 0;padding: 0.3em;box-sizing: border-box;text-align: center;}#sk-container-id-1 label.sk-toggleable__label-arrow:before {content: \"▸\";float: left;margin-right: 0.25em;color: #696969;}#sk-container-id-1 label.sk-toggleable__label-arrow:hover:before {color: black;}#sk-container-id-1 div.sk-estimator:hover label.sk-toggleable__label-arrow:before {color: black;}#sk-container-id-1 div.sk-toggleable__content {max-height: 0;max-width: 0;overflow: hidden;text-align: left;background-color: #f0f8ff;}#sk-container-id-1 div.sk-toggleable__content pre {margin: 0.2em;color: black;border-radius: 0.25em;background-color: #f0f8ff;}#sk-container-id-1 input.sk-toggleable__control:checked~div.sk-toggleable__content {max-height: 200px;max-width: 100%;overflow: auto;}#sk-container-id-1 input.sk-toggleable__control:checked~label.sk-toggleable__label-arrow:before {content: \"▾\";}#sk-container-id-1 div.sk-estimator input.sk-toggleable__control:checked~label.sk-toggleable__label {background-color: #d4ebff;}#sk-container-id-1 div.sk-label input.sk-toggleable__control:checked~label.sk-toggleable__label {background-color: #d4ebff;}#sk-container-id-1 input.sk-hidden--visually {border: 0;clip: rect(1px 1px 1px 1px);clip: rect(1px, 1px, 1px, 1px);height: 1px;margin: -1px;overflow: hidden;padding: 0;position: absolute;width: 1px;}#sk-container-id-1 div.sk-estimator {font-family: monospace;background-color: #f0f8ff;border: 1px dotted black;border-radius: 0.25em;box-sizing: border-box;margin-bottom: 0.5em;}#sk-container-id-1 div.sk-estimator:hover {background-color: #d4ebff;}#sk-container-id-1 div.sk-parallel-item::after {content: \"\";width: 100%;border-bottom: 1px solid gray;flex-grow: 1;}#sk-container-id-1 div.sk-label:hover label.sk-toggleable__label {background-color: #d4ebff;}#sk-container-id-1 div.sk-serial::before {content: \"\";position: absolute;border-left: 1px solid gray;box-sizing: border-box;top: 0;bottom: 0;left: 50%;z-index: 0;}#sk-container-id-1 div.sk-serial {display: flex;flex-direction: column;align-items: center;background-color: white;padding-right: 0.2em;padding-left: 0.2em;position: relative;}#sk-container-id-1 div.sk-item {position: relative;z-index: 1;}#sk-container-id-1 div.sk-parallel {display: flex;align-items: stretch;justify-content: center;background-color: white;position: relative;}#sk-container-id-1 div.sk-item::before, #sk-container-id-1 div.sk-parallel-item::before {content: \"\";position: absolute;border-left: 1px solid gray;box-sizing: border-box;top: 0;bottom: 0;left: 50%;z-index: -1;}#sk-container-id-1 div.sk-parallel-item {display: flex;flex-direction: column;z-index: 1;position: relative;background-color: white;}#sk-container-id-1 div.sk-parallel-item:first-child::after {align-self: flex-end;width: 50%;}#sk-container-id-1 div.sk-parallel-item:last-child::after {align-self: flex-start;width: 50%;}#sk-container-id-1 div.sk-parallel-item:only-child::after {width: 0;}#sk-container-id-1 div.sk-dashed-wrapped {border: 1px dashed gray;margin: 0 0.4em 0.5em 0.4em;box-sizing: border-box;padding-bottom: 0.4em;background-color: white;}#sk-container-id-1 div.sk-label label {font-family: monospace;font-weight: bold;display: inline-block;line-height: 1.2em;}#sk-container-id-1 div.sk-label-container {text-align: center;}#sk-container-id-1 div.sk-container {/* jupyter's `normalize.less` sets `[hidden] { display: none; }` but bootstrap.min.css set `[hidden] { display: none !important; }` so we also need the `!important` here to be able to override the default hidden behavior on the sphinx rendered scikit-learn.org. See: https://github.com/scikit-learn/scikit-learn/issues/21755 */display: inline-block !important;position: relative;}#sk-container-id-1 div.sk-text-repr-fallback {display: none;}</style><div id=\"sk-container-id-1\" class=\"sk-top-container\"><div class=\"sk-text-repr-fallback\"><pre>LinearRegression()</pre><b>In a Jupyter environment, please rerun this cell to show the HTML representation or trust the notebook. <br />On GitHub, the HTML representation is unable to render, please try loading this page with nbviewer.org.</b></div><div class=\"sk-container\" hidden><div class=\"sk-item\"><div class=\"sk-estimator sk-toggleable\"><input class=\"sk-toggleable__control sk-hidden--visually\" id=\"sk-estimator-id-1\" type=\"checkbox\" checked><label for=\"sk-estimator-id-1\" class=\"sk-toggleable__label sk-toggleable__label-arrow\">LinearRegression</label><div class=\"sk-toggleable__content\"><pre>LinearRegression()</pre></div></div></div></div></div>"
      ],
      "text/plain": [
       "LinearRegression()"
      ]
     },
     "execution_count": 7,
     "metadata": {},
     "output_type": "execute_result"
    }
   ],
   "source": [
    "from sklearn.linear_model import LinearRegression\n",
    "regression = LinearRegression()\n",
    "regression.fit(x_train,y_train)"
   ]
  },
  {
   "cell_type": "code",
   "execution_count": 8,
   "id": "2cd8ac39",
   "metadata": {},
   "outputs": [
    {
     "name": "stdout",
     "output_type": "stream",
     "text": [
      "[ 245.9262922    -1.02400377    1.39451704 -138.1132785 ]\n",
      "310.50178446771366\n"
     ]
    }
   ],
   "source": [
    "print(regression.coef_)\n",
    "print(regression.intercept_)"
   ]
  },
  {
   "cell_type": "code",
   "execution_count": 9,
   "id": "ed5a2e93",
   "metadata": {},
   "outputs": [],
   "source": [
    "# prediction for test data\n",
    "reg_pred= regression.predict(x_test)"
   ]
  },
  {
   "cell_type": "code",
   "execution_count": 10,
   "id": "0cd4fa00",
   "metadata": {},
   "outputs": [
    {
     "data": {
      "text/plain": [
       "array([353.63149789, 144.37260091, 314.31022679, 281.60696616,\n",
       "       222.55622156, 305.53238724, 276.27220792, 437.2683665 ,\n",
       "       399.52437522,  64.48959208, 540.77162981, 230.25601943,\n",
       "       466.14408522, 292.52182869, 183.51897185, 222.99965851,\n",
       "       299.94556563, 262.70042801, 187.90935764, 362.05976127,\n",
       "       368.92491204, 185.97881449, 437.6401434 , 331.93512692,\n",
       "       276.25795557, 224.57104418, 239.1844413 , 365.63047116,\n",
       "       239.93328707, 371.78431266, 421.64665497, 365.74265193,\n",
       "       464.28379523, 260.16793436, 581.77718027, 205.4875672 ,\n",
       "       100.21756709, 159.17957004, 414.59031095, 228.86464049,\n",
       "       568.29315277, 286.25996791,  11.3545994 , 357.5277879 ,\n",
       "       318.84209577, 415.29869351, 276.90654115, 225.22663644,\n",
       "       231.85898143, 374.51681962, 119.4525647 , 381.10876252,\n",
       "       298.80966641, 420.40511984, 280.37672541, 542.52919291,\n",
       "       379.71650421, 210.92326855, 184.06487428, 252.93775767,\n",
       "       179.15088905, 325.2712091 ,  60.25775005, 330.15984258,\n",
       "       307.97064356, 261.08325841, 529.00381509, 151.29970273,\n",
       "        11.3545994 , 299.17635857, 786.80607422, 201.31360103,\n",
       "       394.87236354, 573.18674783,  77.32120731, 388.81911623,\n",
       "       275.05371288, 380.14347496, 325.71642918, 348.84476268,\n",
       "       193.06364633, 246.69707302, 139.95147028, 417.34685148,\n",
       "       220.70029601, 135.42586915, 161.50812895, 200.83557466,\n",
       "       410.18314002, 393.79891408, 327.63432898, 181.62604643,\n",
       "       178.9078412 , 654.61757861, 210.14832487, 248.62718711,\n",
       "       400.13650182, 312.53812776, 361.69387911, 562.1417334 ,\n",
       "       140.82087132, 250.50525331, 486.48800756, 230.65982317,\n",
       "       354.50234379, 249.67107523, 351.52966603, 314.18657976,\n",
       "       548.08679632, 319.54606955, 303.22989258, 140.64135031,\n",
       "       431.2789758 , 374.38081014, 147.24773199, 431.73450359,\n",
       "       279.04811271, 389.43873386, 230.31208581, 170.8508612 ,\n",
       "       204.73183879, 172.96156456, 644.78946926, 232.03319697,\n",
       "       527.6550692 , 371.93744232, 221.97085737, 381.6194111 ,\n",
       "       516.92414683, 576.62407944, 314.58862922, 362.52558268,\n",
       "       145.33760051, 601.57979809, 123.83262833, 222.4151221 ,\n",
       "       182.47611701, 468.21830657, 289.58665887, 218.930841  ,\n",
       "       204.50378136, 187.45831201, 452.84259024, 195.35832367,\n",
       "       169.10142958, 747.67154091, 299.21580486, 253.91440771,\n",
       "       345.30740992, 485.19759407, 591.39869064, 276.17819725,\n",
       "       281.17508396, 414.01619203, 247.80776282, 304.13072954,\n",
       "       255.46962626, 327.64510958, 158.70801618, 577.5154885 ,\n",
       "       604.97204794, 342.33943946, 285.7844215 , 473.08548081,\n",
       "       101.70078955, 234.25006112, 364.09315627, 277.30775359,\n",
       "       262.28871638, 619.68135475, 141.83133764, 163.24004852,\n",
       "       413.67782513, 429.84482502, 121.36353972, 256.50592683,\n",
       "       454.78327557, 449.25890019, 325.09333779, 214.730066  ,\n",
       "       197.27470359, 265.58394859, 328.56279179, 387.20759119,\n",
       "       371.88940993, 340.65760601, 101.37082711, 171.7624151 ,\n",
       "       165.20189249, 355.58264453, 278.03156582, 154.75043477,\n",
       "       344.37699537, 506.76743909, 293.72637025,  64.42665992,\n",
       "       471.97787841, 231.66335031, 563.222715  ,  55.40370244,\n",
       "       522.53614247, 282.77430059, 150.08176131, 311.829377  ,\n",
       "       397.66716453, 292.712061  , 525.57362801, 193.65928351,\n",
       "       275.37539182, 395.80399456, 143.42843328, 277.23643384,\n",
       "       113.9352558 , 649.77544743, 140.4022619 , 441.30530799,\n",
       "       223.7207711 , 759.80791014, 342.82238488, 396.06988702,\n",
       "       356.75770929, 522.92673762, 225.56834626, 369.30730932,\n",
       "       321.84240221, 338.42767313, 352.89212416, 627.1794265 ,\n",
       "       708.10904035, 469.8466777 , 267.72057072, 149.36959984,\n",
       "       210.00162188, 278.38037974, 464.62151272, 185.73147848,\n",
       "       511.84607986, 320.31813053, 743.1947541 , 540.72241754,\n",
       "       149.3140117 , 311.69780508, 287.33006776, 210.34149997,\n",
       "       393.39854839, 510.65357363, 286.77059274, 230.94579004,\n",
       "        57.00985862, 198.76470429, 421.53153427, 340.33248296,\n",
       "       161.14229877, 279.15200431, 146.48168518, 287.59987889,\n",
       "       266.11308092, 308.27219152, 425.26828116, 261.68543023,\n",
       "       342.1874678 , 347.72658079, 213.31961598, 580.0322872 ,\n",
       "       324.49323918, 195.45337944, 331.74708835, 374.03309973,\n",
       "       143.88707143, 246.31140655, 335.88218641, 579.49917291,\n",
       "       107.20716808, 215.00532186, 120.620567  , 414.73255956,\n",
       "       289.50633992, 364.30305593, 304.08059834, 298.12802993,\n",
       "       490.75914058, 308.62051076, 284.49691555,  99.19145719,\n",
       "       192.68931364, 237.70529344, 376.30626295, 317.30474922,\n",
       "       132.85303149, 221.0200464 , 452.57596551, 367.48598736,\n",
       "       357.19093082, 311.30385406, 503.27951429, 198.11279664,\n",
       "       194.97230009,  64.88427714, 200.15200254, 195.27416885,\n",
       "       321.36600753, 519.48180696, 365.03311461, 390.11283969,\n",
       "       227.36185471, 275.95113565, 207.10743008, 212.80893212,\n",
       "       444.4026283 , 311.78579093, 245.63937176, 425.72249855,\n",
       "       313.67084629, 148.91247334, 263.73150697, 674.82994319,\n",
       "       523.22981269, 298.73206136, 292.7763988 , 574.43006318,\n",
       "       272.76563504,  70.5491303 , 191.82284796, 190.65572009,\n",
       "       189.02806602, 525.31262721, 423.03823394, 366.21759633,\n",
       "       338.98366639, 570.76862608, 281.49657284, 436.81565828,\n",
       "       826.38430576, 366.2353302 , 470.26610656, 321.69012417,\n",
       "       741.70803758, 212.36000815, 328.87984864,  97.39990351,\n",
       "       241.78570957, 173.44822543,  88.07826681, 314.07506339,\n",
       "       195.42142858, 707.22431646,  91.51355449, 184.20143346,\n",
       "       682.71855583, 602.16512223, 219.58811823, 445.37113852,\n",
       "       159.797063  , 148.59129068, 442.13331399, 115.47599409,\n",
       "       327.80170597, 341.57220401, 254.26740824, 255.23858375,\n",
       "       180.37003727, 166.7242666 , 328.64509364, 434.30008991,\n",
       "       381.00568144, 167.46797123, 138.4321366 , 577.67828108,\n",
       "       423.86681737, 271.81767069, 512.34346643, 383.77070196,\n",
       "       294.00026809, 429.04675911,  11.3545994 ,  11.3545994 ,\n",
       "       303.37723653, 243.93154367, 314.14610716,  60.63240292,\n",
       "       336.94911493, 356.67213919, 227.79503344, 383.49775015,\n",
       "       571.55367913, 366.46069452, 114.1566659 , 284.39559663,\n",
       "       124.55951573, 364.35977219, 448.36813884, 428.57063568,\n",
       "       258.57207173, 163.12597196, 213.16552771, 132.45731069,\n",
       "       169.57762963, 230.85517367, 233.07777109, 196.35439816,\n",
       "       467.24569675, 575.86067682, 483.14977973, 190.96326965,\n",
       "       403.67564682, 448.3025414 , 492.10174844, 324.03532174,\n",
       "       231.42477025, 344.83818133, 549.53627904,  46.40803626,\n",
       "       189.40173836, 450.76065087, 333.99855675, 208.47392489,\n",
       "       396.8065644 , 744.22427524, 307.69997809, 600.34892434,\n",
       "       282.37451848, 366.71563907, 212.11682715, 386.44906372,\n",
       "       190.18073042, 187.78458857,  73.74001069, 228.10248525,\n",
       "       347.98846896, 182.33012305, 249.82015714, 208.77767172,\n",
       "       454.73765688, 161.88728828, 280.14492865, 386.78431306,\n",
       "       535.34982008, 334.03801791, 441.90435206,  59.78789012,\n",
       "       421.2388568 , 414.22636915, 283.54074419, 303.21562561,\n",
       "       341.74485675, 242.96573117, 577.8075657 , 627.98603342,\n",
       "       313.1304498 ,  99.99112324, 305.07238459, 408.39059007,\n",
       "       291.28521419, 518.47663672, 378.48863468, 326.62497964,\n",
       "       299.59065999,  46.47289287, 279.08393492, 381.68002169,\n",
       "       360.08069671, 235.91430093, 404.79451506, 197.81829252,\n",
       "       440.75696701, 646.37576441, 287.84666655, 381.37235332,\n",
       "       202.92895103, 124.2623705 , 254.56672697])"
      ]
     },
     "execution_count": 10,
     "metadata": {},
     "output_type": "execute_result"
    }
   ],
   "source": [
    "reg_pred"
   ]
  },
  {
   "cell_type": "code",
   "execution_count": 12,
   "id": "9c46f169",
   "metadata": {},
   "outputs": [
    {
     "name": "stdout",
     "output_type": "stream",
     "text": [
      "0.9842291794665293\n"
     ]
    }
   ],
   "source": [
    "# R2 score or R-squared score\n",
    "from sklearn.metrics import r2_score\n",
    "linear_r2 = r2_score(y_test,reg_pred)\n",
    "print(linear_r2)"
   ]
  },
  {
   "cell_type": "code",
   "execution_count": 13,
   "id": "542bb44e",
   "metadata": {},
   "outputs": [
    {
     "data": {
      "text/plain": [
       "0.9840938076164566"
      ]
     },
     "execution_count": 13,
     "metadata": {},
     "output_type": "execute_result"
    }
   ],
   "source": [
    "# adjusted R square score\n",
    "adjusted_linear_r2 = 1 - (1-linear_r2)*(len(y_test)-1)/(len(y_test)-x_test.shape[1]-1)\n",
    "adjusted_linear_r2"
   ]
  },
  {
   "cell_type": "markdown",
   "id": "465f4a23",
   "metadata": {},
   "source": [
    "## Ridge regression"
   ]
  },
  {
   "cell_type": "code",
   "execution_count": 14,
   "id": "244e5fe3",
   "metadata": {},
   "outputs": [
    {
     "data": {
      "text/html": [
       "<style>#sk-container-id-2 {color: black;background-color: white;}#sk-container-id-2 pre{padding: 0;}#sk-container-id-2 div.sk-toggleable {background-color: white;}#sk-container-id-2 label.sk-toggleable__label {cursor: pointer;display: block;width: 100%;margin-bottom: 0;padding: 0.3em;box-sizing: border-box;text-align: center;}#sk-container-id-2 label.sk-toggleable__label-arrow:before {content: \"▸\";float: left;margin-right: 0.25em;color: #696969;}#sk-container-id-2 label.sk-toggleable__label-arrow:hover:before {color: black;}#sk-container-id-2 div.sk-estimator:hover label.sk-toggleable__label-arrow:before {color: black;}#sk-container-id-2 div.sk-toggleable__content {max-height: 0;max-width: 0;overflow: hidden;text-align: left;background-color: #f0f8ff;}#sk-container-id-2 div.sk-toggleable__content pre {margin: 0.2em;color: black;border-radius: 0.25em;background-color: #f0f8ff;}#sk-container-id-2 input.sk-toggleable__control:checked~div.sk-toggleable__content {max-height: 200px;max-width: 100%;overflow: auto;}#sk-container-id-2 input.sk-toggleable__control:checked~label.sk-toggleable__label-arrow:before {content: \"▾\";}#sk-container-id-2 div.sk-estimator input.sk-toggleable__control:checked~label.sk-toggleable__label {background-color: #d4ebff;}#sk-container-id-2 div.sk-label input.sk-toggleable__control:checked~label.sk-toggleable__label {background-color: #d4ebff;}#sk-container-id-2 input.sk-hidden--visually {border: 0;clip: rect(1px 1px 1px 1px);clip: rect(1px, 1px, 1px, 1px);height: 1px;margin: -1px;overflow: hidden;padding: 0;position: absolute;width: 1px;}#sk-container-id-2 div.sk-estimator {font-family: monospace;background-color: #f0f8ff;border: 1px dotted black;border-radius: 0.25em;box-sizing: border-box;margin-bottom: 0.5em;}#sk-container-id-2 div.sk-estimator:hover {background-color: #d4ebff;}#sk-container-id-2 div.sk-parallel-item::after {content: \"\";width: 100%;border-bottom: 1px solid gray;flex-grow: 1;}#sk-container-id-2 div.sk-label:hover label.sk-toggleable__label {background-color: #d4ebff;}#sk-container-id-2 div.sk-serial::before {content: \"\";position: absolute;border-left: 1px solid gray;box-sizing: border-box;top: 0;bottom: 0;left: 50%;z-index: 0;}#sk-container-id-2 div.sk-serial {display: flex;flex-direction: column;align-items: center;background-color: white;padding-right: 0.2em;padding-left: 0.2em;position: relative;}#sk-container-id-2 div.sk-item {position: relative;z-index: 1;}#sk-container-id-2 div.sk-parallel {display: flex;align-items: stretch;justify-content: center;background-color: white;position: relative;}#sk-container-id-2 div.sk-item::before, #sk-container-id-2 div.sk-parallel-item::before {content: \"\";position: absolute;border-left: 1px solid gray;box-sizing: border-box;top: 0;bottom: 0;left: 50%;z-index: -1;}#sk-container-id-2 div.sk-parallel-item {display: flex;flex-direction: column;z-index: 1;position: relative;background-color: white;}#sk-container-id-2 div.sk-parallel-item:first-child::after {align-self: flex-end;width: 50%;}#sk-container-id-2 div.sk-parallel-item:last-child::after {align-self: flex-start;width: 50%;}#sk-container-id-2 div.sk-parallel-item:only-child::after {width: 0;}#sk-container-id-2 div.sk-dashed-wrapped {border: 1px dashed gray;margin: 0 0.4em 0.5em 0.4em;box-sizing: border-box;padding-bottom: 0.4em;background-color: white;}#sk-container-id-2 div.sk-label label {font-family: monospace;font-weight: bold;display: inline-block;line-height: 1.2em;}#sk-container-id-2 div.sk-label-container {text-align: center;}#sk-container-id-2 div.sk-container {/* jupyter's `normalize.less` sets `[hidden] { display: none; }` but bootstrap.min.css set `[hidden] { display: none !important; }` so we also need the `!important` here to be able to override the default hidden behavior on the sphinx rendered scikit-learn.org. See: https://github.com/scikit-learn/scikit-learn/issues/21755 */display: inline-block !important;position: relative;}#sk-container-id-2 div.sk-text-repr-fallback {display: none;}</style><div id=\"sk-container-id-2\" class=\"sk-top-container\"><div class=\"sk-text-repr-fallback\"><pre>Ridge()</pre><b>In a Jupyter environment, please rerun this cell to show the HTML representation or trust the notebook. <br />On GitHub, the HTML representation is unable to render, please try loading this page with nbviewer.org.</b></div><div class=\"sk-container\" hidden><div class=\"sk-item\"><div class=\"sk-estimator sk-toggleable\"><input class=\"sk-toggleable__control sk-hidden--visually\" id=\"sk-estimator-id-2\" type=\"checkbox\" checked><label for=\"sk-estimator-id-2\" class=\"sk-toggleable__label sk-toggleable__label-arrow\">Ridge</label><div class=\"sk-toggleable__content\"><pre>Ridge()</pre></div></div></div></div></div>"
      ],
      "text/plain": [
       "Ridge()"
      ]
     },
     "execution_count": 14,
     "metadata": {},
     "output_type": "execute_result"
    }
   ],
   "source": [
    "from sklearn.linear_model import Ridge\n",
    "ridge = Ridge()\n",
    "ridge.fit(x_train,y_train)"
   ]
  },
  {
   "cell_type": "code",
   "execution_count": 15,
   "id": "0e9e32cf",
   "metadata": {},
   "outputs": [],
   "source": [
    "ridge_pred = ridge.predict(x_test)"
   ]
  },
  {
   "cell_type": "code",
   "execution_count": 16,
   "id": "1787d6e2",
   "metadata": {},
   "outputs": [
    {
     "data": {
      "text/plain": [
       "array([353.86868805, 144.8574234 , 314.19028877, 281.75562766,\n",
       "       223.85939179, 306.58794978, 276.84355455, 436.84890959,\n",
       "       398.64996828,  65.06051472, 540.28971051, 230.98029889,\n",
       "       464.70218886, 292.62627041, 184.76082436, 223.99603512,\n",
       "       301.67751532, 263.42439836, 188.53979014, 360.84376096,\n",
       "       368.59057761, 186.17634446, 438.01514508, 331.90122457,\n",
       "       277.75571249, 225.11106473, 239.71110751, 365.08258755,\n",
       "       240.12127656, 371.86647509, 420.39983822, 366.31765239,\n",
       "       463.50983848, 259.51397747, 579.93399457, 205.80556648,\n",
       "       100.67251864, 160.02908987, 413.01902951, 230.64144502,\n",
       "       566.77676385, 287.55618589,  12.1072121 , 357.23567959,\n",
       "       318.13097282, 415.51134983, 277.54486051, 225.91613148,\n",
       "       232.07112979, 374.12118374, 120.23424523, 381.23458628,\n",
       "       299.83198873, 420.17670938, 281.65484995, 541.72057331,\n",
       "       380.67539343, 211.74381562, 184.4296232 , 255.04028739,\n",
       "       180.21973647, 325.49455628,  60.98422457, 330.22689752,\n",
       "       308.01120033, 262.03754773, 528.31482367, 152.14941115,\n",
       "        12.1072121 , 299.74019866, 783.55075776, 201.95481155,\n",
       "       394.18788587, 571.50291987,  77.77379211, 389.09859264,\n",
       "       275.2217668 , 379.33773424, 325.32511099, 347.88882999,\n",
       "       195.3011668 , 246.8852522 , 140.60532866, 417.23280187,\n",
       "       220.59716135, 135.63333168, 161.49219927, 200.89644508,\n",
       "       410.11550807, 392.37092583, 328.93643735, 181.82597258,\n",
       "       179.66065971, 652.80504163, 210.65543104, 249.38728793,\n",
       "       399.82922104, 312.81936233, 361.28713162, 560.52764207,\n",
       "       141.1122166 , 250.60343522, 486.53947081, 231.42827317,\n",
       "       354.83982511, 249.33398769, 352.03153226, 314.10866659,\n",
       "       546.94165137, 318.8536234 , 303.88640603, 141.35838175,\n",
       "       431.88773129, 375.31921535, 147.34516447, 431.7119084 ,\n",
       "       278.43737611, 388.74316798, 231.66279497, 172.23538969,\n",
       "       205.2142937 , 173.69084838, 643.90409813, 233.21316937,\n",
       "       526.02055252, 371.02766222, 222.491731  , 380.92847028,\n",
       "       516.90791942, 576.23764131, 314.20057822, 362.61405798,\n",
       "       145.67409994, 600.84777161, 124.07072203, 222.28286437,\n",
       "       182.79934227, 467.64975475, 289.3730338 , 219.79837899,\n",
       "       204.50062749, 188.77065083, 451.70980503, 195.62799875,\n",
       "       169.77161058, 744.03728257, 298.71392042, 254.16001878,\n",
       "       345.20488838, 483.41058197, 589.96953282, 276.63590729,\n",
       "       281.74523791, 415.0368306 , 248.40442609, 303.68391969,\n",
       "       256.27280994, 328.07456248, 158.92301025, 577.30271342,\n",
       "       605.01892853, 341.92421994, 285.9200956 , 472.31135384,\n",
       "       101.90502775, 234.29979006, 363.96243672, 277.45686819,\n",
       "       263.09119436, 618.03183842, 142.04155782, 163.38605814,\n",
       "       413.20074034, 429.50396865, 121.86267092, 257.1399661 ,\n",
       "       454.25149676, 448.11525205, 325.00206776, 215.07202231,\n",
       "       197.66066234, 265.50176662, 328.44456686, 386.82156592,\n",
       "       371.43663657, 340.02825116, 102.0738699 , 172.1360103 ,\n",
       "       165.7813913 , 354.78947212, 278.00952343, 155.75278994,\n",
       "       345.23026912, 507.15288211, 293.56880522,  64.97548271,\n",
       "       470.81337505, 231.21869372, 561.73057912,  55.79455793,\n",
       "       521.05948871, 282.97952373, 150.92504923, 311.95034574,\n",
       "       397.62706102, 292.50102361, 524.59998623, 194.31246534,\n",
       "       274.35161097, 396.43577272, 144.12301585, 277.2456767 ,\n",
       "       114.65075831, 648.50125475, 140.90177493, 440.2328501 ,\n",
       "       223.68714915, 756.5587514 , 342.24534578, 395.30699035,\n",
       "       355.77879985, 521.32464787, 225.83606525, 369.56357924,\n",
       "       322.31080689, 338.44533101, 352.67859422, 624.79917682,\n",
       "       706.38591348, 468.78259932, 267.89901763, 149.96749525,\n",
       "       210.30957951, 278.83347672, 463.71912009, 186.30425205,\n",
       "       510.50487449, 319.74103534, 740.77912961, 541.20069779,\n",
       "       149.6652679 , 311.49773292, 286.88547432, 210.5172613 ,\n",
       "       393.67701056, 509.58355528, 287.05577916, 232.00244399,\n",
       "        57.71318495, 199.03462964, 421.1528621 , 339.08953421,\n",
       "       161.28414444, 280.17747718, 146.87561716, 288.18808747,\n",
       "       266.16841944, 308.39793272, 425.90828084, 261.44819934,\n",
       "       342.83457823, 346.60135884, 213.97780401, 580.3195111 ,\n",
       "       324.38109072, 195.60568123, 331.59836294, 373.874988  ,\n",
       "       144.42268903, 246.17537559, 334.97609087, 578.37872453,\n",
       "       107.35717462, 215.31821868, 121.18653423, 413.84518399,\n",
       "       290.11871263, 364.16737299, 303.57781878, 298.67080884,\n",
       "       488.94736561, 308.45877176, 285.40271819,  99.55716446,\n",
       "       192.72363727, 238.27364029, 376.09218093, 317.52735518,\n",
       "       134.17999808, 221.6048089 , 452.13735555, 368.04427481,\n",
       "       356.96262325, 312.70805474, 501.61622337, 198.49999212,\n",
       "       196.2701728 ,  65.37106492, 200.68013716, 197.21123653,\n",
       "       321.68778392, 518.81742159, 365.15500109, 389.87080385,\n",
       "       227.00682438, 276.12379971, 207.82518294, 213.10842056,\n",
       "       443.51400348, 312.16199302, 246.31115447, 425.14726594,\n",
       "       315.3291259 , 149.83497249, 263.34656644, 674.13022242,\n",
       "       521.78186221, 297.94440352, 292.75849494, 572.90664352,\n",
       "       273.58191869,  71.08431794, 192.24505502, 190.90053103,\n",
       "       189.44683528, 524.5030066 , 422.3215485 , 367.10698729,\n",
       "       338.69421081, 568.42613851, 280.73929915, 436.04208694,\n",
       "       822.91129812, 366.02130158, 470.73869643, 321.70303877,\n",
       "       738.96704188, 212.43569403, 328.60943286,  97.77619381,\n",
       "       242.46613543, 174.54488069,  88.44704689, 314.06646909,\n",
       "       196.11514741, 705.27137831,  92.00049125, 184.72710993,\n",
       "       680.71981838, 601.32627671, 219.93477844, 443.7141455 ,\n",
       "       159.36443317, 148.89615745, 441.48860498, 116.30397754,\n",
       "       327.91137293, 341.73552999, 254.89432599, 256.27766712,\n",
       "       181.69458752, 167.60549994, 328.15255036, 433.29762311,\n",
       "       380.81881129, 168.79738272, 139.08269042, 577.49722102,\n",
       "       423.54295469, 272.90833838, 510.95857029, 383.71548256,\n",
       "       294.18555727, 428.82374762,  12.1072121 ,  12.1072121 ,\n",
       "       302.98943796, 244.50969094, 314.36708444,  61.43177445,\n",
       "       338.52858855, 356.69974233, 227.62813652, 382.35752799,\n",
       "       570.09428034, 366.04185997, 114.70858569, 284.2906212 ,\n",
       "       125.26091859, 364.38685378, 447.46312428, 427.57816971,\n",
       "       258.89356329, 163.81222241, 213.65469349, 133.11731348,\n",
       "       169.77471569, 230.90310746, 234.07670915, 196.62215534,\n",
       "       465.71297694, 575.32679383, 481.03572625, 191.23594388,\n",
       "       401.94879392, 448.40083534, 490.69956125, 324.76046108,\n",
       "       232.16261328, 344.36504765, 548.02845583,  46.94894246,\n",
       "       189.53817088, 451.59450426, 335.0927034 , 208.85225669,\n",
       "       396.54320359, 741.93218834, 307.09861255, 599.43375673,\n",
       "       282.50577233, 365.97595773, 212.46983235, 385.85223724,\n",
       "       191.53833474, 188.47398481,  74.34938292, 229.45660363,\n",
       "       348.46958095, 184.03927321, 250.45279957, 209.3031267 ,\n",
       "       454.76713152, 162.44408251, 280.28975842, 385.92049393,\n",
       "       534.08481603, 334.01585856, 441.38158471,  60.09790599,\n",
       "       419.88374831, 414.44767867, 283.0215647 , 303.97447234,\n",
       "       341.30018469, 243.29068591, 577.65660622, 627.22382388,\n",
       "       313.32532721, 100.21731134, 305.05705487, 408.04590602,\n",
       "       292.4439674 , 517.80335911, 376.49358257, 326.7810352 ,\n",
       "       299.7478915 ,  47.20833739, 278.19799578, 380.48502917,\n",
       "       359.12115207, 236.26789717, 406.22712075, 198.43684297,\n",
       "       439.64483546, 645.42279153, 287.93280988, 381.42227371,\n",
       "       203.80983268, 125.36964629, 254.7992654 ])"
      ]
     },
     "execution_count": 16,
     "metadata": {},
     "output_type": "execute_result"
    }
   ],
   "source": [
    "ridge_pred"
   ]
  },
  {
   "cell_type": "code",
   "execution_count": 17,
   "id": "10403c6d",
   "metadata": {},
   "outputs": [
    {
     "name": "stdout",
     "output_type": "stream",
     "text": [
      "0.984080169953393\n"
     ]
    }
   ],
   "source": [
    "# Let's see the R2 score for Ridge\n",
    "from sklearn.metrics import r2_score\n",
    "ridge_r2 = r2_score(y_test,ridge_pred)\n",
    "print(ridge_r2)"
   ]
  },
  {
   "cell_type": "code",
   "execution_count": 18,
   "id": "2c6d8947",
   "metadata": {},
   "outputs": [
    {
     "data": {
      "text/plain": [
       "0.9839435190517054"
      ]
     },
     "execution_count": 18,
     "metadata": {},
     "output_type": "execute_result"
    }
   ],
   "source": [
    "# let's see the Adjusted R2 score\n",
    "adjusted_ridge_r2 = 1 - (1-ridge_r2)*(len(y_test)-1)/(len(y_test)-x_test.shape[1]-1)\n",
    "adjusted_ridge_r2 "
   ]
  },
  {
   "cell_type": "markdown",
   "id": "e185ca7d",
   "metadata": {},
   "source": [
    "## Lasso regression"
   ]
  },
  {
   "cell_type": "code",
   "execution_count": 19,
   "id": "f8951147",
   "metadata": {},
   "outputs": [
    {
     "data": {
      "text/html": [
       "<style>#sk-container-id-3 {color: black;background-color: white;}#sk-container-id-3 pre{padding: 0;}#sk-container-id-3 div.sk-toggleable {background-color: white;}#sk-container-id-3 label.sk-toggleable__label {cursor: pointer;display: block;width: 100%;margin-bottom: 0;padding: 0.3em;box-sizing: border-box;text-align: center;}#sk-container-id-3 label.sk-toggleable__label-arrow:before {content: \"▸\";float: left;margin-right: 0.25em;color: #696969;}#sk-container-id-3 label.sk-toggleable__label-arrow:hover:before {color: black;}#sk-container-id-3 div.sk-estimator:hover label.sk-toggleable__label-arrow:before {color: black;}#sk-container-id-3 div.sk-toggleable__content {max-height: 0;max-width: 0;overflow: hidden;text-align: left;background-color: #f0f8ff;}#sk-container-id-3 div.sk-toggleable__content pre {margin: 0.2em;color: black;border-radius: 0.25em;background-color: #f0f8ff;}#sk-container-id-3 input.sk-toggleable__control:checked~div.sk-toggleable__content {max-height: 200px;max-width: 100%;overflow: auto;}#sk-container-id-3 input.sk-toggleable__control:checked~label.sk-toggleable__label-arrow:before {content: \"▾\";}#sk-container-id-3 div.sk-estimator input.sk-toggleable__control:checked~label.sk-toggleable__label {background-color: #d4ebff;}#sk-container-id-3 div.sk-label input.sk-toggleable__control:checked~label.sk-toggleable__label {background-color: #d4ebff;}#sk-container-id-3 input.sk-hidden--visually {border: 0;clip: rect(1px 1px 1px 1px);clip: rect(1px, 1px, 1px, 1px);height: 1px;margin: -1px;overflow: hidden;padding: 0;position: absolute;width: 1px;}#sk-container-id-3 div.sk-estimator {font-family: monospace;background-color: #f0f8ff;border: 1px dotted black;border-radius: 0.25em;box-sizing: border-box;margin-bottom: 0.5em;}#sk-container-id-3 div.sk-estimator:hover {background-color: #d4ebff;}#sk-container-id-3 div.sk-parallel-item::after {content: \"\";width: 100%;border-bottom: 1px solid gray;flex-grow: 1;}#sk-container-id-3 div.sk-label:hover label.sk-toggleable__label {background-color: #d4ebff;}#sk-container-id-3 div.sk-serial::before {content: \"\";position: absolute;border-left: 1px solid gray;box-sizing: border-box;top: 0;bottom: 0;left: 50%;z-index: 0;}#sk-container-id-3 div.sk-serial {display: flex;flex-direction: column;align-items: center;background-color: white;padding-right: 0.2em;padding-left: 0.2em;position: relative;}#sk-container-id-3 div.sk-item {position: relative;z-index: 1;}#sk-container-id-3 div.sk-parallel {display: flex;align-items: stretch;justify-content: center;background-color: white;position: relative;}#sk-container-id-3 div.sk-item::before, #sk-container-id-3 div.sk-parallel-item::before {content: \"\";position: absolute;border-left: 1px solid gray;box-sizing: border-box;top: 0;bottom: 0;left: 50%;z-index: -1;}#sk-container-id-3 div.sk-parallel-item {display: flex;flex-direction: column;z-index: 1;position: relative;background-color: white;}#sk-container-id-3 div.sk-parallel-item:first-child::after {align-self: flex-end;width: 50%;}#sk-container-id-3 div.sk-parallel-item:last-child::after {align-self: flex-start;width: 50%;}#sk-container-id-3 div.sk-parallel-item:only-child::after {width: 0;}#sk-container-id-3 div.sk-dashed-wrapped {border: 1px dashed gray;margin: 0 0.4em 0.5em 0.4em;box-sizing: border-box;padding-bottom: 0.4em;background-color: white;}#sk-container-id-3 div.sk-label label {font-family: monospace;font-weight: bold;display: inline-block;line-height: 1.2em;}#sk-container-id-3 div.sk-label-container {text-align: center;}#sk-container-id-3 div.sk-container {/* jupyter's `normalize.less` sets `[hidden] { display: none; }` but bootstrap.min.css set `[hidden] { display: none !important; }` so we also need the `!important` here to be able to override the default hidden behavior on the sphinx rendered scikit-learn.org. See: https://github.com/scikit-learn/scikit-learn/issues/21755 */display: inline-block !important;position: relative;}#sk-container-id-3 div.sk-text-repr-fallback {display: none;}</style><div id=\"sk-container-id-3\" class=\"sk-top-container\"><div class=\"sk-text-repr-fallback\"><pre>Lasso()</pre><b>In a Jupyter environment, please rerun this cell to show the HTML representation or trust the notebook. <br />On GitHub, the HTML representation is unable to render, please try loading this page with nbviewer.org.</b></div><div class=\"sk-container\" hidden><div class=\"sk-item\"><div class=\"sk-estimator sk-toggleable\"><input class=\"sk-toggleable__control sk-hidden--visually\" id=\"sk-estimator-id-3\" type=\"checkbox\" checked><label for=\"sk-estimator-id-3\" class=\"sk-toggleable__label sk-toggleable__label-arrow\">Lasso</label><div class=\"sk-toggleable__content\"><pre>Lasso()</pre></div></div></div></div></div>"
      ],
      "text/plain": [
       "Lasso()"
      ]
     },
     "execution_count": 19,
     "metadata": {},
     "output_type": "execute_result"
    }
   ],
   "source": [
    "from sklearn.linear_model import Lasso\n",
    "lasso = Lasso()\n",
    "lasso.fit(x_train,y_train)"
   ]
  },
  {
   "cell_type": "code",
   "execution_count": 20,
   "id": "039e2028",
   "metadata": {},
   "outputs": [],
   "source": [
    "lasso_pred = lasso.predict(x_test)"
   ]
  },
  {
   "cell_type": "code",
   "execution_count": 21,
   "id": "7bcc429b",
   "metadata": {},
   "outputs": [
    {
     "data": {
      "text/plain": [
       "0.980995851856877"
      ]
     },
     "execution_count": 21,
     "metadata": {},
     "output_type": "execute_result"
    }
   ],
   "source": [
    "# R2 score for Lasso\n",
    "from sklearn.metrics import r2_score\n",
    "lasso_r2 = r2_score(lasso_pred,y_test)\n",
    "lasso_r2"
   ]
  },
  {
   "cell_type": "code",
   "execution_count": 22,
   "id": "6ca30351",
   "metadata": {},
   "outputs": [
    {
     "data": {
      "text/plain": [
       "0.9808327261217429"
      ]
     },
     "execution_count": 22,
     "metadata": {},
     "output_type": "execute_result"
    }
   ],
   "source": [
    "# Adjusted R2 score for Lasso\n",
    "adjusted_lasso_r2 = 1 - (1-lasso_r2)*(len(y_test)-1)/(len(y_test)-x_test.shape[1]-1)\n",
    "adjusted_lasso_r2"
   ]
  },
  {
   "cell_type": "markdown",
   "id": "f2815fed",
   "metadata": {},
   "source": [
    "## Elasticnet Regression"
   ]
  },
  {
   "cell_type": "code",
   "execution_count": 23,
   "id": "1aabb77b",
   "metadata": {},
   "outputs": [
    {
     "data": {
      "text/html": [
       "<style>#sk-container-id-4 {color: black;background-color: white;}#sk-container-id-4 pre{padding: 0;}#sk-container-id-4 div.sk-toggleable {background-color: white;}#sk-container-id-4 label.sk-toggleable__label {cursor: pointer;display: block;width: 100%;margin-bottom: 0;padding: 0.3em;box-sizing: border-box;text-align: center;}#sk-container-id-4 label.sk-toggleable__label-arrow:before {content: \"▸\";float: left;margin-right: 0.25em;color: #696969;}#sk-container-id-4 label.sk-toggleable__label-arrow:hover:before {color: black;}#sk-container-id-4 div.sk-estimator:hover label.sk-toggleable__label-arrow:before {color: black;}#sk-container-id-4 div.sk-toggleable__content {max-height: 0;max-width: 0;overflow: hidden;text-align: left;background-color: #f0f8ff;}#sk-container-id-4 div.sk-toggleable__content pre {margin: 0.2em;color: black;border-radius: 0.25em;background-color: #f0f8ff;}#sk-container-id-4 input.sk-toggleable__control:checked~div.sk-toggleable__content {max-height: 200px;max-width: 100%;overflow: auto;}#sk-container-id-4 input.sk-toggleable__control:checked~label.sk-toggleable__label-arrow:before {content: \"▾\";}#sk-container-id-4 div.sk-estimator input.sk-toggleable__control:checked~label.sk-toggleable__label {background-color: #d4ebff;}#sk-container-id-4 div.sk-label input.sk-toggleable__control:checked~label.sk-toggleable__label {background-color: #d4ebff;}#sk-container-id-4 input.sk-hidden--visually {border: 0;clip: rect(1px 1px 1px 1px);clip: rect(1px, 1px, 1px, 1px);height: 1px;margin: -1px;overflow: hidden;padding: 0;position: absolute;width: 1px;}#sk-container-id-4 div.sk-estimator {font-family: monospace;background-color: #f0f8ff;border: 1px dotted black;border-radius: 0.25em;box-sizing: border-box;margin-bottom: 0.5em;}#sk-container-id-4 div.sk-estimator:hover {background-color: #d4ebff;}#sk-container-id-4 div.sk-parallel-item::after {content: \"\";width: 100%;border-bottom: 1px solid gray;flex-grow: 1;}#sk-container-id-4 div.sk-label:hover label.sk-toggleable__label {background-color: #d4ebff;}#sk-container-id-4 div.sk-serial::before {content: \"\";position: absolute;border-left: 1px solid gray;box-sizing: border-box;top: 0;bottom: 0;left: 50%;z-index: 0;}#sk-container-id-4 div.sk-serial {display: flex;flex-direction: column;align-items: center;background-color: white;padding-right: 0.2em;padding-left: 0.2em;position: relative;}#sk-container-id-4 div.sk-item {position: relative;z-index: 1;}#sk-container-id-4 div.sk-parallel {display: flex;align-items: stretch;justify-content: center;background-color: white;position: relative;}#sk-container-id-4 div.sk-item::before, #sk-container-id-4 div.sk-parallel-item::before {content: \"\";position: absolute;border-left: 1px solid gray;box-sizing: border-box;top: 0;bottom: 0;left: 50%;z-index: -1;}#sk-container-id-4 div.sk-parallel-item {display: flex;flex-direction: column;z-index: 1;position: relative;background-color: white;}#sk-container-id-4 div.sk-parallel-item:first-child::after {align-self: flex-end;width: 50%;}#sk-container-id-4 div.sk-parallel-item:last-child::after {align-self: flex-start;width: 50%;}#sk-container-id-4 div.sk-parallel-item:only-child::after {width: 0;}#sk-container-id-4 div.sk-dashed-wrapped {border: 1px dashed gray;margin: 0 0.4em 0.5em 0.4em;box-sizing: border-box;padding-bottom: 0.4em;background-color: white;}#sk-container-id-4 div.sk-label label {font-family: monospace;font-weight: bold;display: inline-block;line-height: 1.2em;}#sk-container-id-4 div.sk-label-container {text-align: center;}#sk-container-id-4 div.sk-container {/* jupyter's `normalize.less` sets `[hidden] { display: none; }` but bootstrap.min.css set `[hidden] { display: none !important; }` so we also need the `!important` here to be able to override the default hidden behavior on the sphinx rendered scikit-learn.org. See: https://github.com/scikit-learn/scikit-learn/issues/21755 */display: inline-block !important;position: relative;}#sk-container-id-4 div.sk-text-repr-fallback {display: none;}</style><div id=\"sk-container-id-4\" class=\"sk-top-container\"><div class=\"sk-text-repr-fallback\"><pre>ElasticNet()</pre><b>In a Jupyter environment, please rerun this cell to show the HTML representation or trust the notebook. <br />On GitHub, the HTML representation is unable to render, please try loading this page with nbviewer.org.</b></div><div class=\"sk-container\" hidden><div class=\"sk-item\"><div class=\"sk-estimator sk-toggleable\"><input class=\"sk-toggleable__control sk-hidden--visually\" id=\"sk-estimator-id-4\" type=\"checkbox\" checked><label for=\"sk-estimator-id-4\" class=\"sk-toggleable__label sk-toggleable__label-arrow\">ElasticNet</label><div class=\"sk-toggleable__content\"><pre>ElasticNet()</pre></div></div></div></div></div>"
      ],
      "text/plain": [
       "ElasticNet()"
      ]
     },
     "execution_count": 23,
     "metadata": {},
     "output_type": "execute_result"
    }
   ],
   "source": [
    "from sklearn.linear_model import ElasticNet\n",
    "elastic = ElasticNet()\n",
    "elastic.fit(x_train,y_train)"
   ]
  },
  {
   "cell_type": "code",
   "execution_count": 24,
   "id": "d2fe21e4",
   "metadata": {},
   "outputs": [],
   "source": [
    "elastic_pred=elastic.predict(x_test)"
   ]
  },
  {
   "cell_type": "code",
   "execution_count": 25,
   "id": "485e59f1",
   "metadata": {},
   "outputs": [
    {
     "data": {
      "text/plain": [
       "array([369.885497  , 192.45565485, 316.67859621, 307.30002609,\n",
       "       329.34701417, 372.68401992, 335.43630023, 387.52680415,\n",
       "       315.09000747, 139.18965359, 459.70519549, 293.42948724,\n",
       "       336.61182333, 293.7841909 , 291.84657037, 299.51236037,\n",
       "       406.2783315 , 335.26998654, 255.03135699, 268.05174383,\n",
       "       328.58191596, 228.175546  , 438.8577369 , 327.49765229,\n",
       "       386.69754911, 278.60663395, 279.7933016 , 315.61961837,\n",
       "       270.41982575, 363.62083384, 326.48435807, 389.65077206,\n",
       "       383.63235546, 224.06267669, 410.77208391, 239.33651519,\n",
       "       164.94633857, 238.87644854, 284.06519177, 363.95265144,\n",
       "       429.56104465, 374.23892287,  99.18094034, 327.97382126,\n",
       "       278.67040566, 402.85088796, 321.61646818, 299.93900462,\n",
       "       264.99054226, 332.29118281, 200.44512789, 385.38007177,\n",
       "       358.1446847 , 377.09355679, 367.04322455, 443.503426  ,\n",
       "       427.65220432, 284.17094907, 222.91672473, 404.8836648 ,\n",
       "       264.39457472, 331.99192134, 151.07892655, 345.13563013,\n",
       "       314.62825084, 347.67679823, 440.59628264, 244.7117697 ,\n",
       "        99.18094034, 336.88241422, 500.14852103, 266.30337656,\n",
       "       342.29842193, 416.50461112, 142.07097497, 394.02298507,\n",
       "       303.32035724, 306.61986122, 311.54090352, 270.02238079,\n",
       "       364.59132527, 267.59643865, 208.86841828, 387.27981598,\n",
       "       224.20166338, 174.82099133, 180.40316185, 236.07831169,\n",
       "       381.15385722, 285.38950793, 420.9287386 , 218.6220291 ,\n",
       "       245.39924454, 469.79871327, 274.19109166, 305.44753371,\n",
       "       353.44448745, 330.65409741, 321.40556805, 404.10983408,\n",
       "       197.1547763 , 282.62035001, 454.94465628, 289.34553719,\n",
       "       375.02916511, 245.38634606, 373.48964493, 311.908106  ,\n",
       "       437.08444049, 265.77316073, 354.28752115, 219.73842833,\n",
       "       448.06384492, 428.07166168, 186.89543223, 406.11479215,\n",
       "       236.51417025, 331.38685624, 340.78424861, 287.10026492,\n",
       "       249.92069556, 246.81281549, 524.45084734, 332.50207043,\n",
       "       391.56687169, 295.20513103, 272.76202594, 313.12971249,\n",
       "       473.44571328, 521.30224285, 281.38623203, 354.55791325,\n",
       "       186.56844168, 509.32385887, 168.82087981, 229.03412827,\n",
       "       237.23057245, 392.48079095, 274.88883225, 286.65493141,\n",
       "       213.05149032, 308.25925605, 346.80761219, 225.83161305,\n",
       "       230.40789604, 444.93114747, 287.47037188, 284.28669301,\n",
       "       330.04211423, 333.5986082 , 451.54869482, 303.70932465,\n",
       "       315.91217605, 462.88633927, 300.55147639, 293.52316411,\n",
       "       319.45691183, 354.40586317, 192.63964843, 532.01382351,\n",
       "       547.88313525, 308.72867418, 288.92158314, 410.20194526,\n",
       "       150.03936417, 249.94950734, 340.35283329, 298.36103192,\n",
       "       320.07301251, 450.20050799, 183.60538234, 213.15042054,\n",
       "       351.84521508, 383.11892535, 193.64132277, 307.53576741,\n",
       "       394.33305363, 358.29596326, 314.09681938, 257.33025178,\n",
       "       238.37404648, 275.34669729, 311.52987402, 363.24130823,\n",
       "       330.64831738, 289.2560349 , 196.02803342, 229.35902739,\n",
       "       227.42550585, 287.40148443, 279.83031098, 247.95171846,\n",
       "       406.71182847, 505.67141855, 277.21981693, 144.23716011,\n",
       "       361.72161252, 231.61544138, 414.53579626, 130.08355525,\n",
       "       379.75509704, 307.76513479, 234.54102271, 315.37286216,\n",
       "       387.92509712, 287.11385983, 414.52520157, 254.43136294,\n",
       "       214.98096102, 428.32765889, 222.12772293, 284.57135633,\n",
       "       195.08302576, 500.07905936, 201.80390065, 356.85085467,\n",
       "       249.49050543, 464.95871153, 303.0051866 , 321.6127624 ,\n",
       "       294.86861567, 378.229031  , 258.91794064, 367.51390033,\n",
       "       342.599927  , 346.73819897, 345.20879042, 404.05047906,\n",
       "       516.67205929, 365.50705877, 300.04847372, 215.89317033,\n",
       "       252.32703145, 312.36523407, 375.92347831, 242.3658186 ,\n",
       "       381.53715953, 283.12082317, 502.20555155, 521.18756531,\n",
       "       192.00667795, 299.95821696, 256.33548224, 230.60348194,\n",
       "       389.87317888, 402.92812601, 299.6782414 , 312.26518241,\n",
       "       144.83068996, 226.91654249, 364.73688852, 255.16423373,\n",
       "       198.81005155, 352.08534075, 195.15447335, 343.20348786,\n",
       "       272.23870372, 318.71200605, 457.01188686, 266.34328326,\n",
       "       370.12480915, 265.17915624, 282.65046555, 545.00220484,\n",
       "       315.63298209, 224.71621779, 315.26555452, 350.42831176,\n",
       "       210.58398953, 253.34787324, 267.76255255, 451.21227547,\n",
       "       152.7316616 , 249.65570304, 193.446187  , 341.4063119 ,\n",
       "       341.01203241, 348.36340892, 279.44811512, 331.85013596,\n",
       "       330.74138206, 302.23818299, 340.84728759, 169.26959614,\n",
       "       216.4827475 , 297.07177559, 351.80919291, 339.6889287 ,\n",
       "       245.25176194, 270.54951737, 395.86658664, 388.3160019 ,\n",
       "       325.01565267, 415.40201763, 353.50343023, 242.36985032,\n",
       "       297.27083904, 136.69586586, 251.15557739, 343.75552049,\n",
       "       357.40298572, 433.72380441, 364.27142512, 351.67275549,\n",
       "       228.85012288, 298.88154668, 267.44150531, 243.02542899,\n",
       "       369.45345997, 331.06285422, 307.10401904, 366.92156166,\n",
       "       440.42723049, 249.19653613, 264.6106514 , 557.70721074,\n",
       "       385.13421241, 260.23302198, 295.39483591, 423.5529286 ,\n",
       "       338.54254132, 145.97362117, 231.14313351, 222.8982618 ,\n",
       "       239.7022049 , 425.41608075, 354.81997368, 414.78891713,\n",
       "       313.19859589, 367.01715635, 242.58382246, 357.89130249,\n",
       "       507.57977432, 343.62334975, 469.34175975, 315.87326602,\n",
       "       485.22733853, 230.68786096, 317.87461068, 162.82686735,\n",
       "       294.03159753, 267.30637714, 158.0929049 , 317.31709934,\n",
       "       272.08608547, 503.32857635, 161.29979432, 241.6137225 ,\n",
       "       493.03941917, 494.59002701, 259.84313409, 313.49711598,\n",
       "       167.34121371, 188.44914118, 392.47058567, 205.31795598,\n",
       "       323.92075628, 346.47816744, 301.45435607, 340.99645824,\n",
       "       280.44632183, 247.85513947, 291.08934092, 344.93840735,\n",
       "       344.6757834 , 277.06532607, 212.82136306, 533.97001396,\n",
       "       381.56396053, 343.97358266, 376.56264327, 366.17410335,\n",
       "       326.60148405, 383.09893304,  99.18094034,  99.18094034,\n",
       "       275.38082711, 285.58210729, 342.24037066, 152.54490132,\n",
       "       429.02099155, 342.9792439 , 251.77640794, 291.02207842,\n",
       "       434.3413498 , 324.69264721, 177.98782615, 299.15242725,\n",
       "       209.19903621, 355.96667633, 366.95374952, 337.3168498 ,\n",
       "       304.72568085, 245.86598347, 262.21607681, 198.91991988,\n",
       "       213.75653683, 253.94417677, 322.326702  , 249.67657018,\n",
       "       349.40624599, 509.84693508, 330.68915522, 227.32559248,\n",
       "       267.48062327, 432.04567326, 364.00221511, 361.44396964,\n",
       "       294.79790207, 299.01072169, 412.43591169, 125.80005136,\n",
       "       225.34938445, 483.94726821, 399.60632726, 244.77352829,\n",
       "       365.76192581, 518.05360245, 265.21579052, 483.67912666,\n",
       "       295.71459701, 300.85464386, 250.75538498, 332.76718522,\n",
       "       303.72808823, 258.44756137, 161.84071031, 348.67887184,\n",
       "       371.89148919, 314.69727268, 303.02739196, 264.15978445,\n",
       "       430.83542371, 225.8197222 , 300.12897729, 313.5483695 ,\n",
       "       413.81601676, 330.50542813, 377.24614511, 115.04725179,\n",
       "       306.61877959, 410.12764103, 246.81284336, 367.74702151,\n",
       "       312.26399946, 285.69260784, 526.76500074, 525.03570967,\n",
       "       322.98824902, 139.46666831, 305.69688108, 364.2035646 ,\n",
       "       367.21185303, 431.48138   , 248.84871844, 330.09885158,\n",
       "       312.28925852, 134.91730047, 235.16364241, 295.72822959,\n",
       "       281.05837691, 268.45530848, 487.22427253, 252.6302223 ,\n",
       "       348.85767707, 519.62390267, 301.76234793, 373.78287717,\n",
       "       283.02023214, 228.26024169, 273.77831287])"
      ]
     },
     "execution_count": 25,
     "metadata": {},
     "output_type": "execute_result"
    }
   ],
   "source": [
    "elastic_pred"
   ]
  },
  {
   "cell_type": "code",
   "execution_count": 26,
   "id": "b7ecb28b",
   "metadata": {},
   "outputs": [
    {
     "data": {
      "text/plain": [
       "0.980995851856877"
      ]
     },
     "execution_count": 26,
     "metadata": {},
     "output_type": "execute_result"
    }
   ],
   "source": [
    "#R squared\n",
    "\n",
    "from sklearn.metrics import r2_score\n",
    "elasticnet_r2=r2_score(lasso_pred,y_test)\n",
    "elasticnet_r2"
   ]
  },
  {
   "cell_type": "code",
   "execution_count": 27,
   "id": "f7375cb6",
   "metadata": {},
   "outputs": [
    {
     "data": {
      "text/plain": [
       "0.9808327261217429"
      ]
     },
     "execution_count": 27,
     "metadata": {},
     "output_type": "execute_result"
    }
   ],
   "source": [
    "# Adjusted R square\n",
    "\n",
    "adjusted_elasticnet_r2 = 1 - (1-elasticnet_r2)*(len(y_test)-1)/(len(y_test)-x_test.shape[1]-1)\n",
    "adjusted_elasticnet_r2"
   ]
  },
  {
   "cell_type": "code",
   "execution_count": null,
   "id": "c087fa45",
   "metadata": {},
   "outputs": [],
   "source": []
  }
 ],
 "metadata": {
  "kernelspec": {
   "display_name": "Python 3 (ipykernel)",
   "language": "python",
   "name": "python3"
  },
  "language_info": {
   "codemirror_mode": {
    "name": "ipython",
    "version": 3
   },
   "file_extension": ".py",
   "mimetype": "text/x-python",
   "name": "python",
   "nbconvert_exporter": "python",
   "pygments_lexer": "ipython3",
   "version": "3.11.3"
  }
 },
 "nbformat": 4,
 "nbformat_minor": 5
}
